{
 "cells": [
  {
   "cell_type": "code",
   "execution_count": 20,
   "metadata": {
    "collapsed": true,
    "scrolled": true
   },
   "outputs": [],
   "source": [
    "import time\n",
    "import klepto\n",
    "import shelve\n",
    "import pickle\n",
    "import h5py\n",
    "import numpy as np\n",
    "from scipy.sparse import *\n",
    "import matplotlib.pyplot as plt"
   ]
  },
  {
   "cell_type": "code",
   "execution_count": 21,
   "metadata": {
    "collapsed": true
   },
   "outputs": [],
   "source": [
    "dataset = '1m'"
   ]
  },
  {
   "cell_type": "code",
   "execution_count": 22,
   "metadata": {
    "collapsed": true
   },
   "outputs": [],
   "source": [
    "feature=h5py.File('movielens/' + dataset + '/test_list.mat')  \n",
    "test_list = feature['test_list'][:]\n",
    "test_list = list(map(int, test_list.T[0]))\n",
    "test_list = [i-1 for i in test_list] "
   ]
  },
  {
   "cell_type": "code",
   "execution_count": 23,
   "metadata": {},
   "outputs": [
    {
     "name": "stdout",
     "output_type": "stream",
     "text": [
      "file load DONE\n"
     ]
    }
   ],
   "source": [
    "rating_matrix_csc = load_npz('movielens/sparse_matrix_ml-' + dataset + '_selected.npz').tocsc()\n",
    "rating_matrix_csc_test  = rating_matrix_csc[:, test_list]\n",
    "print(\"file load DONE\")"
   ]
  },
  {
   "cell_type": "code",
   "execution_count": 24,
   "metadata": {
    "collapsed": true,
    "scrolled": true
   },
   "outputs": [],
   "source": [
    "feature=h5py.File('MF_matrix_input_1M.mat')  \n",
    "MF_matrix_input = feature['MF_matrix'][:].T"
   ]
  },
  {
   "cell_type": "code",
   "execution_count": 8,
   "metadata": {
    "scrolled": true
   },
   "outputs": [
    {
     "data": {
      "text/plain": [
       "<6040x3700 sparse matrix of type '<class 'numpy.float32'>'\n",
       "\twith 696469 stored elements in Compressed Sparse Column format>"
      ]
     },
     "execution_count": 8,
     "metadata": {},
     "output_type": "execute_result"
    }
   ],
   "source": [
    "row = MF_matrix_input[:, 1]\n",
    "col = MF_matrix_input[:, 0]\n",
    "data = MF_matrix_input[:, 2]\n",
    "input_matrix = csc_matrix((data, (row, col)), shape=rating_matrix_csc.shape)\n",
    "del rating_matrix_csc\n",
    "input_matrix"
   ]
  },
  {
   "cell_type": "code",
   "execution_count": 9,
   "metadata": {
    "collapsed": true
   },
   "outputs": [],
   "source": [
    "train_list = []\n",
    "for i in range(MF_matrix_input.shape[0]):\n",
    "    train_list.append((MF_matrix_input[i, 0], MF_matrix_input[i, 1], MF_matrix_input[i, 2]))\n",
    "del MF_matrix_input"
   ]
  },
  {
   "cell_type": "markdown",
   "metadata": {},
   "source": [
    "## MF part"
   ]
  },
  {
   "cell_type": "code",
   "execution_count": 10,
   "metadata": {
    "collapsed": true
   },
   "outputs": [],
   "source": [
    "from pyspark import SparkConf\n",
    "from pyspark import SparkContext\n",
    "from pyspark.mllib.recommendation import ALS\n",
    "\n",
    "class MatrixFactorization:\n",
    "    def __init__(self, maxIter=15, regParam=0.01, rank=10):\n",
    "        self.maxIter = maxIter\n",
    "        self.regParam = regParam\n",
    "        self.rank = rank\n",
    "        conf = SparkConf().setAppName(\"appName\").setMaster(\"local[*]\")\n",
    "        conf.set(\"spark.driver.memory\",\"16g\")\n",
    "        conf.set(\"spark.executor.memory\",\"16g\")\n",
    "        self.spark = SparkContext(conf=conf)                    \n",
    "        print(\"New SparkSession started...\")\n",
    "\n",
    "    def change_parameter(self, regParam):\n",
    "        self.regParam = regParam\n",
    "\n",
    "    def matrix_factorization(self, train_lst):\n",
    "        ratings = self.spark.parallelize(train_lst)\n",
    "        model = ALS.train(ratings, self.rank, seed=10, \\\n",
    "                          iterations=self.maxIter, \\\n",
    "                          lambda_=self.regParam)\n",
    "        print(\"MF DONE\")\n",
    "        userFeatures = sorted(model.userFeatures().collect(), key=lambda d: d[0], reverse=False)\n",
    "        productFeatures = sorted(model.productFeatures().collect(), key=lambda d: d[0], reverse=False)\n",
    "        itemProfile = {each[0]: each[1].tolist() for each in userFeatures}\n",
    "        userProfile = {each[0]: each[1].tolist() for each in productFeatures}\n",
    "             \n",
    "        return userProfile, itemProfile\n",
    "\n",
    "    def end(self):\n",
    "        self.spark.stop()\n",
    "        print(\"SparkSession stopped.\")"
   ]
  },
  {
   "cell_type": "code",
   "execution_count": 11,
   "metadata": {
    "collapsed": true
   },
   "outputs": [],
   "source": [
    "lambda_list = [0.05, 0.10, 0.11, 0.12, 0.13, 0.14, 0.15, 0.16, 0.17, 0.18, 0.19, 0.20, 0.21, 0.22, 0.23, 0.24, 0.25, 0.26, 0.27, 0.28, 0.29]"
   ]
  },
  {
   "cell_type": "code",
   "execution_count": 15,
   "metadata": {
    "scrolled": true
   },
   "outputs": [
    {
     "name": "stdout",
     "output_type": "stream",
     "text": [
      "New SparkSession started...\n"
     ]
    }
   ],
   "source": [
    "MF = MatrixFactorization()"
   ]
  },
  {
   "cell_type": "code",
   "execution_count": 17,
   "metadata": {
    "scrolled": true
   },
   "outputs": [
    {
     "name": "stdout",
     "output_type": "stream",
     "text": [
      "Current plambda: 0.05\n",
      "MF DONE\n",
      "0.00%\n",
      "9.01%\n",
      "18.02%\n",
      "27.03%\n",
      "36.04%\n",
      "45.05%\n",
      "54.05%\n",
      "63.06%\n",
      "72.07%\n",
      "81.08%\n",
      "90.09%\n",
      "99.10%\n",
      "Current RMSE: 1.34081218481\n",
      "Current plambda: 0.1\n",
      "MF DONE\n",
      "0.00%\n",
      "9.01%\n",
      "18.02%\n",
      "27.03%\n",
      "36.04%\n",
      "45.05%\n",
      "54.05%\n",
      "63.06%\n",
      "72.07%\n",
      "81.08%\n",
      "90.09%\n",
      "99.10%\n",
      "Current RMSE: 1.23802186561\n",
      "Current plambda: 0.11\n",
      "MF DONE\n",
      "0.00%\n",
      "9.01%\n",
      "18.02%\n",
      "27.03%\n",
      "36.04%\n",
      "45.05%\n",
      "54.05%\n",
      "63.06%\n",
      "72.07%\n",
      "81.08%\n",
      "90.09%\n",
      "99.10%\n",
      "Current RMSE: 1.22067767889\n",
      "Current plambda: 0.12\n",
      "MF DONE\n",
      "0.00%\n",
      "9.01%\n",
      "18.02%\n",
      "27.03%\n",
      "36.04%\n",
      "45.05%\n",
      "54.05%\n",
      "63.06%\n",
      "72.07%\n",
      "81.08%\n",
      "90.09%\n",
      "99.10%\n",
      "Current RMSE: 1.20514682362\n",
      "Current plambda: 0.13\n",
      "MF DONE\n",
      "0.00%\n",
      "9.01%\n",
      "18.02%\n",
      "27.03%\n",
      "36.04%\n",
      "45.05%\n",
      "54.05%\n",
      "63.06%\n",
      "72.07%\n",
      "81.08%\n",
      "90.09%\n",
      "99.10%\n",
      "Current RMSE: 1.19140724688\n",
      "Current plambda: 0.14\n",
      "MF DONE\n",
      "0.00%\n",
      "9.01%\n",
      "18.02%\n",
      "27.03%\n",
      "36.04%\n",
      "45.05%\n",
      "54.05%\n",
      "63.06%\n",
      "72.07%\n",
      "81.08%\n",
      "90.09%\n",
      "99.10%\n",
      "Current RMSE: 1.18007285603\n",
      "Current plambda: 0.15\n",
      "MF DONE\n",
      "0.00%\n",
      "9.01%\n",
      "18.02%\n",
      "27.03%\n",
      "36.04%\n",
      "45.05%\n",
      "54.05%\n",
      "63.06%\n",
      "72.07%\n",
      "81.08%\n",
      "90.09%\n",
      "99.10%\n",
      "Current RMSE: 1.17145126632\n",
      "Current plambda: 0.16\n",
      "MF DONE\n",
      "0.00%\n",
      "9.01%\n",
      "18.02%\n",
      "27.03%\n",
      "36.04%\n",
      "45.05%\n",
      "54.05%\n",
      "63.06%\n",
      "72.07%\n",
      "81.08%\n",
      "90.09%\n",
      "99.10%\n",
      "Current RMSE: 1.16505630106\n",
      "Current plambda: 0.17\n",
      "MF DONE\n",
      "0.00%\n",
      "9.01%\n",
      "18.02%\n",
      "27.03%\n",
      "36.04%\n",
      "45.05%\n",
      "54.05%\n",
      "63.06%\n",
      "72.07%\n",
      "81.08%\n",
      "90.09%\n",
      "99.10%\n",
      "Current RMSE: 1.16052086491\n",
      "Current plambda: 0.18\n",
      "MF DONE\n",
      "0.00%\n",
      "9.01%\n",
      "18.02%\n",
      "27.03%\n",
      "36.04%\n",
      "45.05%\n",
      "54.05%\n",
      "63.06%\n",
      "72.07%\n",
      "81.08%\n",
      "90.09%\n",
      "99.10%\n",
      "Current RMSE: 1.1574736653\n",
      "Current plambda: 0.19\n",
      "MF DONE\n",
      "0.00%\n",
      "9.01%\n",
      "18.02%\n",
      "27.03%\n",
      "36.04%\n",
      "45.05%\n",
      "54.05%\n",
      "63.06%\n",
      "72.07%\n",
      "81.08%\n",
      "90.09%\n",
      "99.10%\n",
      "Current RMSE: 1.155282281\n",
      "Current plambda: 0.2\n",
      "MF DONE\n",
      "0.00%\n",
      "9.01%\n",
      "18.02%\n",
      "27.03%\n",
      "36.04%\n",
      "45.05%\n",
      "54.05%\n",
      "63.06%\n",
      "72.07%\n",
      "81.08%\n",
      "90.09%\n",
      "99.10%\n",
      "Current RMSE: 1.15351032183\n",
      "Current plambda: 0.21\n",
      "MF DONE\n",
      "0.00%\n",
      "9.01%\n",
      "18.02%\n",
      "27.03%\n",
      "36.04%\n",
      "45.05%\n",
      "54.05%\n",
      "63.06%\n",
      "72.07%\n",
      "81.08%\n",
      "90.09%\n",
      "99.10%\n",
      "Current RMSE: 1.15208432855\n",
      "Current plambda: 0.22\n",
      "MF DONE\n",
      "0.00%\n",
      "9.01%\n",
      "18.02%\n",
      "27.03%\n",
      "36.04%\n",
      "45.05%\n",
      "54.05%\n",
      "63.06%\n",
      "72.07%\n",
      "81.08%\n",
      "90.09%\n",
      "99.10%\n",
      "Current RMSE: 1.15107621061\n",
      "Current plambda: 0.23\n",
      "MF DONE\n",
      "0.00%\n",
      "9.01%\n",
      "18.02%\n",
      "27.03%\n",
      "36.04%\n",
      "45.05%\n",
      "54.05%\n",
      "63.06%\n",
      "72.07%\n",
      "81.08%\n",
      "90.09%\n",
      "99.10%\n",
      "Current RMSE: 1.15051980501\n",
      "Current plambda: 0.24\n",
      "MF DONE\n",
      "0.00%\n",
      "9.01%\n",
      "18.02%\n",
      "27.03%\n",
      "36.04%\n",
      "45.05%\n",
      "54.05%\n",
      "63.06%\n",
      "72.07%\n",
      "81.08%\n",
      "90.09%\n",
      "99.10%\n",
      "Current RMSE: 1.15037992266\n",
      "Current plambda: 0.25\n",
      "MF DONE\n",
      "0.00%\n",
      "9.01%\n",
      "18.02%\n",
      "27.03%\n",
      "36.04%\n",
      "45.05%\n",
      "54.05%\n",
      "63.06%\n",
      "72.07%\n",
      "81.08%\n",
      "90.09%\n",
      "99.10%\n",
      "Current RMSE: 1.15059473771\n",
      "Current plambda: 0.26\n",
      "MF DONE\n",
      "0.00%\n",
      "9.01%\n",
      "18.02%\n",
      "27.03%\n",
      "36.04%\n",
      "45.05%\n",
      "54.05%\n",
      "63.06%\n",
      "72.07%\n",
      "81.08%\n",
      "90.09%\n",
      "99.10%\n",
      "Current RMSE: 1.15112344707\n",
      "Current plambda: 0.27\n"
     ]
    },
    {
     "ename": "KeyboardInterrupt",
     "evalue": "",
     "output_type": "error",
     "traceback": [
      "\u001b[1;31m---------------------------------------------------------------------------\u001b[0m",
      "\u001b[1;31mKeyboardInterrupt\u001b[0m                         Traceback (most recent call last)",
      "\u001b[1;32m<ipython-input-17-78f28ecf4fc0>\u001b[0m in \u001b[0;36m<module>\u001b[1;34m()\u001b[0m\n\u001b[0;32m      4\u001b[0m     \u001b[0mprint\u001b[0m\u001b[1;33m(\u001b[0m\u001b[1;34m\"Current plambda: \"\u001b[0m \u001b[1;33m+\u001b[0m \u001b[0mstr\u001b[0m\u001b[1;33m(\u001b[0m\u001b[0mplambda\u001b[0m\u001b[1;33m)\u001b[0m\u001b[1;33m)\u001b[0m\u001b[1;33m\u001b[0m\u001b[0m\n\u001b[0;32m      5\u001b[0m     \u001b[0mMF\u001b[0m\u001b[1;33m.\u001b[0m\u001b[0mchange_parameter\u001b[0m\u001b[1;33m(\u001b[0m\u001b[0mplambda\u001b[0m\u001b[1;33m)\u001b[0m\u001b[1;33m\u001b[0m\u001b[0m\n\u001b[1;32m----> 6\u001b[1;33m     \u001b[0muser_profile\u001b[0m\u001b[1;33m,\u001b[0m \u001b[0mitem_profile\u001b[0m \u001b[1;33m=\u001b[0m \u001b[0mMF\u001b[0m\u001b[1;33m.\u001b[0m\u001b[0mmatrix_factorization\u001b[0m\u001b[1;33m(\u001b[0m\u001b[0mtrain_list\u001b[0m\u001b[1;33m)\u001b[0m\u001b[1;33m\u001b[0m\u001b[0m\n\u001b[0m\u001b[0;32m      7\u001b[0m \u001b[1;33m\u001b[0m\u001b[0m\n\u001b[0;32m      8\u001b[0m     \u001b[0mP_test\u001b[0m \u001b[1;33m=\u001b[0m \u001b[0mnp\u001b[0m\u001b[1;33m.\u001b[0m\u001b[0mzeros\u001b[0m\u001b[1;33m(\u001b[0m\u001b[0mrating_matrix_csc_test\u001b[0m\u001b[1;33m.\u001b[0m\u001b[0mshape\u001b[0m\u001b[1;33m)\u001b[0m\u001b[1;33m\u001b[0m\u001b[0m\n",
      "\u001b[1;32m<ipython-input-10-1ceb1e5f60f7>\u001b[0m in \u001b[0;36mmatrix_factorization\u001b[1;34m(self, train_lst)\u001b[0m\n\u001b[0;32m     19\u001b[0m     \u001b[1;32mdef\u001b[0m \u001b[0mmatrix_factorization\u001b[0m\u001b[1;33m(\u001b[0m\u001b[0mself\u001b[0m\u001b[1;33m,\u001b[0m \u001b[0mtrain_lst\u001b[0m\u001b[1;33m)\u001b[0m\u001b[1;33m:\u001b[0m\u001b[1;33m\u001b[0m\u001b[0m\n\u001b[0;32m     20\u001b[0m         \u001b[0mratings\u001b[0m \u001b[1;33m=\u001b[0m \u001b[0mself\u001b[0m\u001b[1;33m.\u001b[0m\u001b[0mspark\u001b[0m\u001b[1;33m.\u001b[0m\u001b[0mparallelize\u001b[0m\u001b[1;33m(\u001b[0m\u001b[0mtrain_lst\u001b[0m\u001b[1;33m)\u001b[0m\u001b[1;33m\u001b[0m\u001b[0m\n\u001b[1;32m---> 21\u001b[1;33m         \u001b[0mmodel\u001b[0m \u001b[1;33m=\u001b[0m \u001b[0mALS\u001b[0m\u001b[1;33m.\u001b[0m\u001b[0mtrain\u001b[0m\u001b[1;33m(\u001b[0m\u001b[0mratings\u001b[0m\u001b[1;33m,\u001b[0m \u001b[0mself\u001b[0m\u001b[1;33m.\u001b[0m\u001b[0mrank\u001b[0m\u001b[1;33m,\u001b[0m \u001b[0mseed\u001b[0m\u001b[1;33m=\u001b[0m\u001b[1;36m10\u001b[0m\u001b[1;33m,\u001b[0m                           \u001b[0miterations\u001b[0m\u001b[1;33m=\u001b[0m\u001b[0mself\u001b[0m\u001b[1;33m.\u001b[0m\u001b[0mmaxIter\u001b[0m\u001b[1;33m,\u001b[0m                           \u001b[0mlambda_\u001b[0m\u001b[1;33m=\u001b[0m\u001b[0mself\u001b[0m\u001b[1;33m.\u001b[0m\u001b[0mregParam\u001b[0m\u001b[1;33m)\u001b[0m\u001b[1;33m\u001b[0m\u001b[0m\n\u001b[0m\u001b[0;32m     22\u001b[0m         \u001b[0mprint\u001b[0m\u001b[1;33m(\u001b[0m\u001b[1;34m\"MF DONE\"\u001b[0m\u001b[1;33m)\u001b[0m\u001b[1;33m\u001b[0m\u001b[0m\n\u001b[0;32m     23\u001b[0m         \u001b[0muserFeatures\u001b[0m \u001b[1;33m=\u001b[0m \u001b[0msorted\u001b[0m\u001b[1;33m(\u001b[0m\u001b[0mmodel\u001b[0m\u001b[1;33m.\u001b[0m\u001b[0muserFeatures\u001b[0m\u001b[1;33m(\u001b[0m\u001b[1;33m)\u001b[0m\u001b[1;33m.\u001b[0m\u001b[0mcollect\u001b[0m\u001b[1;33m(\u001b[0m\u001b[1;33m)\u001b[0m\u001b[1;33m,\u001b[0m \u001b[0mkey\u001b[0m\u001b[1;33m=\u001b[0m\u001b[1;32mlambda\u001b[0m \u001b[0md\u001b[0m\u001b[1;33m:\u001b[0m \u001b[0md\u001b[0m\u001b[1;33m[\u001b[0m\u001b[1;36m0\u001b[0m\u001b[1;33m]\u001b[0m\u001b[1;33m,\u001b[0m \u001b[0mreverse\u001b[0m\u001b[1;33m=\u001b[0m\u001b[1;32mFalse\u001b[0m\u001b[1;33m)\u001b[0m\u001b[1;33m\u001b[0m\u001b[0m\n",
      "\u001b[1;32m~\\Spark\\spark-2.2.0-bin-hadoop2.7\\python\\pyspark\\mllib\\recommendation.py\u001b[0m in \u001b[0;36mtrain\u001b[1;34m(cls, ratings, rank, iterations, lambda_, blocks, nonnegative, seed)\u001b[0m\n\u001b[0;32m    271\u001b[0m         \"\"\"\n\u001b[0;32m    272\u001b[0m         model = callMLlibFunc(\"trainALSModel\", cls._prepare(ratings), rank, iterations,\n\u001b[1;32m--> 273\u001b[1;33m                               lambda_, blocks, nonnegative, seed)\n\u001b[0m\u001b[0;32m    274\u001b[0m         \u001b[1;32mreturn\u001b[0m \u001b[0mMatrixFactorizationModel\u001b[0m\u001b[1;33m(\u001b[0m\u001b[0mmodel\u001b[0m\u001b[1;33m)\u001b[0m\u001b[1;33m\u001b[0m\u001b[0m\n\u001b[0;32m    275\u001b[0m \u001b[1;33m\u001b[0m\u001b[0m\n",
      "\u001b[1;32m~\\Spark\\spark-2.2.0-bin-hadoop2.7\\python\\pyspark\\mllib\\common.py\u001b[0m in \u001b[0;36mcallMLlibFunc\u001b[1;34m(name, *args)\u001b[0m\n\u001b[0;32m    128\u001b[0m     \u001b[0msc\u001b[0m \u001b[1;33m=\u001b[0m \u001b[0mSparkContext\u001b[0m\u001b[1;33m.\u001b[0m\u001b[0mgetOrCreate\u001b[0m\u001b[1;33m(\u001b[0m\u001b[1;33m)\u001b[0m\u001b[1;33m\u001b[0m\u001b[0m\n\u001b[0;32m    129\u001b[0m     \u001b[0mapi\u001b[0m \u001b[1;33m=\u001b[0m \u001b[0mgetattr\u001b[0m\u001b[1;33m(\u001b[0m\u001b[0msc\u001b[0m\u001b[1;33m.\u001b[0m\u001b[0m_jvm\u001b[0m\u001b[1;33m.\u001b[0m\u001b[0mPythonMLLibAPI\u001b[0m\u001b[1;33m(\u001b[0m\u001b[1;33m)\u001b[0m\u001b[1;33m,\u001b[0m \u001b[0mname\u001b[0m\u001b[1;33m)\u001b[0m\u001b[1;33m\u001b[0m\u001b[0m\n\u001b[1;32m--> 130\u001b[1;33m     \u001b[1;32mreturn\u001b[0m \u001b[0mcallJavaFunc\u001b[0m\u001b[1;33m(\u001b[0m\u001b[0msc\u001b[0m\u001b[1;33m,\u001b[0m \u001b[0mapi\u001b[0m\u001b[1;33m,\u001b[0m \u001b[1;33m*\u001b[0m\u001b[0margs\u001b[0m\u001b[1;33m)\u001b[0m\u001b[1;33m\u001b[0m\u001b[0m\n\u001b[0m\u001b[0;32m    131\u001b[0m \u001b[1;33m\u001b[0m\u001b[0m\n\u001b[0;32m    132\u001b[0m \u001b[1;33m\u001b[0m\u001b[0m\n",
      "\u001b[1;32m~\\Spark\\spark-2.2.0-bin-hadoop2.7\\python\\pyspark\\mllib\\common.py\u001b[0m in \u001b[0;36mcallJavaFunc\u001b[1;34m(sc, func, *args)\u001b[0m\n\u001b[0;32m    121\u001b[0m     \u001b[1;34m\"\"\" Call Java Function \"\"\"\u001b[0m\u001b[1;33m\u001b[0m\u001b[0m\n\u001b[0;32m    122\u001b[0m     \u001b[0margs\u001b[0m \u001b[1;33m=\u001b[0m \u001b[1;33m[\u001b[0m\u001b[0m_py2java\u001b[0m\u001b[1;33m(\u001b[0m\u001b[0msc\u001b[0m\u001b[1;33m,\u001b[0m \u001b[0ma\u001b[0m\u001b[1;33m)\u001b[0m \u001b[1;32mfor\u001b[0m \u001b[0ma\u001b[0m \u001b[1;32min\u001b[0m \u001b[0margs\u001b[0m\u001b[1;33m]\u001b[0m\u001b[1;33m\u001b[0m\u001b[0m\n\u001b[1;32m--> 123\u001b[1;33m     \u001b[1;32mreturn\u001b[0m \u001b[0m_java2py\u001b[0m\u001b[1;33m(\u001b[0m\u001b[0msc\u001b[0m\u001b[1;33m,\u001b[0m \u001b[0mfunc\u001b[0m\u001b[1;33m(\u001b[0m\u001b[1;33m*\u001b[0m\u001b[0margs\u001b[0m\u001b[1;33m)\u001b[0m\u001b[1;33m)\u001b[0m\u001b[1;33m\u001b[0m\u001b[0m\n\u001b[0m\u001b[0;32m    124\u001b[0m \u001b[1;33m\u001b[0m\u001b[0m\n\u001b[0;32m    125\u001b[0m \u001b[1;33m\u001b[0m\u001b[0m\n",
      "\u001b[1;32m~\\Spark\\spark-2.2.0-bin-hadoop2.7\\python\\lib\\py4j\\java_gateway.py\u001b[0m in \u001b[0;36m__call__\u001b[1;34m(self, *args)\u001b[0m\n\u001b[0;32m   1129\u001b[0m             \u001b[0mproto\u001b[0m\u001b[1;33m.\u001b[0m\u001b[0mEND_COMMAND_PART\u001b[0m\u001b[1;33m\u001b[0m\u001b[0m\n\u001b[0;32m   1130\u001b[0m \u001b[1;33m\u001b[0m\u001b[0m\n\u001b[1;32m-> 1131\u001b[1;33m         \u001b[0manswer\u001b[0m \u001b[1;33m=\u001b[0m \u001b[0mself\u001b[0m\u001b[1;33m.\u001b[0m\u001b[0mgateway_client\u001b[0m\u001b[1;33m.\u001b[0m\u001b[0msend_command\u001b[0m\u001b[1;33m(\u001b[0m\u001b[0mcommand\u001b[0m\u001b[1;33m)\u001b[0m\u001b[1;33m\u001b[0m\u001b[0m\n\u001b[0m\u001b[0;32m   1132\u001b[0m         return_value = get_return_value(\n\u001b[0;32m   1133\u001b[0m             answer, self.gateway_client, self.target_id, self.name)\n",
      "\u001b[1;32m~\\Spark\\spark-2.2.0-bin-hadoop2.7\\python\\lib\\py4j\\java_gateway.py\u001b[0m in \u001b[0;36msend_command\u001b[1;34m(self, command, retry, binary)\u001b[0m\n\u001b[0;32m    881\u001b[0m         \u001b[0mconnection\u001b[0m \u001b[1;33m=\u001b[0m \u001b[0mself\u001b[0m\u001b[1;33m.\u001b[0m\u001b[0m_get_connection\u001b[0m\u001b[1;33m(\u001b[0m\u001b[1;33m)\u001b[0m\u001b[1;33m\u001b[0m\u001b[0m\n\u001b[0;32m    882\u001b[0m         \u001b[1;32mtry\u001b[0m\u001b[1;33m:\u001b[0m\u001b[1;33m\u001b[0m\u001b[0m\n\u001b[1;32m--> 883\u001b[1;33m             \u001b[0mresponse\u001b[0m \u001b[1;33m=\u001b[0m \u001b[0mconnection\u001b[0m\u001b[1;33m.\u001b[0m\u001b[0msend_command\u001b[0m\u001b[1;33m(\u001b[0m\u001b[0mcommand\u001b[0m\u001b[1;33m)\u001b[0m\u001b[1;33m\u001b[0m\u001b[0m\n\u001b[0m\u001b[0;32m    884\u001b[0m             \u001b[1;32mif\u001b[0m \u001b[0mbinary\u001b[0m\u001b[1;33m:\u001b[0m\u001b[1;33m\u001b[0m\u001b[0m\n\u001b[0;32m    885\u001b[0m                 \u001b[1;32mreturn\u001b[0m \u001b[0mresponse\u001b[0m\u001b[1;33m,\u001b[0m \u001b[0mself\u001b[0m\u001b[1;33m.\u001b[0m\u001b[0m_create_connection_guard\u001b[0m\u001b[1;33m(\u001b[0m\u001b[0mconnection\u001b[0m\u001b[1;33m)\u001b[0m\u001b[1;33m\u001b[0m\u001b[0m\n",
      "\u001b[1;32m~\\Spark\\spark-2.2.0-bin-hadoop2.7\\python\\lib\\py4j\\java_gateway.py\u001b[0m in \u001b[0;36msend_command\u001b[1;34m(self, command)\u001b[0m\n\u001b[0;32m   1026\u001b[0m \u001b[1;33m\u001b[0m\u001b[0m\n\u001b[0;32m   1027\u001b[0m         \u001b[1;32mtry\u001b[0m\u001b[1;33m:\u001b[0m\u001b[1;33m\u001b[0m\u001b[0m\n\u001b[1;32m-> 1028\u001b[1;33m             \u001b[0manswer\u001b[0m \u001b[1;33m=\u001b[0m \u001b[0msmart_decode\u001b[0m\u001b[1;33m(\u001b[0m\u001b[0mself\u001b[0m\u001b[1;33m.\u001b[0m\u001b[0mstream\u001b[0m\u001b[1;33m.\u001b[0m\u001b[0mreadline\u001b[0m\u001b[1;33m(\u001b[0m\u001b[1;33m)\u001b[0m\u001b[1;33m[\u001b[0m\u001b[1;33m:\u001b[0m\u001b[1;33m-\u001b[0m\u001b[1;36m1\u001b[0m\u001b[1;33m]\u001b[0m\u001b[1;33m)\u001b[0m\u001b[1;33m\u001b[0m\u001b[0m\n\u001b[0m\u001b[0;32m   1029\u001b[0m             \u001b[0mlogger\u001b[0m\u001b[1;33m.\u001b[0m\u001b[0mdebug\u001b[0m\u001b[1;33m(\u001b[0m\u001b[1;34m\"Answer received: {0}\"\u001b[0m\u001b[1;33m.\u001b[0m\u001b[0mformat\u001b[0m\u001b[1;33m(\u001b[0m\u001b[0manswer\u001b[0m\u001b[1;33m)\u001b[0m\u001b[1;33m)\u001b[0m\u001b[1;33m\u001b[0m\u001b[0m\n\u001b[0;32m   1030\u001b[0m             \u001b[1;32mif\u001b[0m \u001b[0manswer\u001b[0m\u001b[1;33m.\u001b[0m\u001b[0mstartswith\u001b[0m\u001b[1;33m(\u001b[0m\u001b[0mproto\u001b[0m\u001b[1;33m.\u001b[0m\u001b[0mRETURN_MESSAGE\u001b[0m\u001b[1;33m)\u001b[0m\u001b[1;33m:\u001b[0m\u001b[1;33m\u001b[0m\u001b[0m\n",
      "\u001b[1;32m~\\Anaconda3\\envs\\py35\\lib\\socket.py\u001b[0m in \u001b[0;36mreadinto\u001b[1;34m(self, b)\u001b[0m\n\u001b[0;32m    574\u001b[0m         \u001b[1;32mwhile\u001b[0m \u001b[1;32mTrue\u001b[0m\u001b[1;33m:\u001b[0m\u001b[1;33m\u001b[0m\u001b[0m\n\u001b[0;32m    575\u001b[0m             \u001b[1;32mtry\u001b[0m\u001b[1;33m:\u001b[0m\u001b[1;33m\u001b[0m\u001b[0m\n\u001b[1;32m--> 576\u001b[1;33m                 \u001b[1;32mreturn\u001b[0m \u001b[0mself\u001b[0m\u001b[1;33m.\u001b[0m\u001b[0m_sock\u001b[0m\u001b[1;33m.\u001b[0m\u001b[0mrecv_into\u001b[0m\u001b[1;33m(\u001b[0m\u001b[0mb\u001b[0m\u001b[1;33m)\u001b[0m\u001b[1;33m\u001b[0m\u001b[0m\n\u001b[0m\u001b[0;32m    577\u001b[0m             \u001b[1;32mexcept\u001b[0m \u001b[0mtimeout\u001b[0m\u001b[1;33m:\u001b[0m\u001b[1;33m\u001b[0m\u001b[0m\n\u001b[0;32m    578\u001b[0m                 \u001b[0mself\u001b[0m\u001b[1;33m.\u001b[0m\u001b[0m_timeout_occurred\u001b[0m \u001b[1;33m=\u001b[0m \u001b[1;32mTrue\u001b[0m\u001b[1;33m\u001b[0m\u001b[0m\n",
      "\u001b[1;31mKeyboardInterrupt\u001b[0m: "
     ]
    }
   ],
   "source": [
    "min_RMSE = -1\n",
    "rmse_list = []\n",
    "for plambda in lambda_list:\n",
    "    print(\"Current plambda: \" + str(plambda))\n",
    "    MF.change_parameter(plambda)\n",
    "    user_profile, item_profile = MF.matrix_factorization(train_list)\n",
    "    \n",
    "    P_test = np.zeros(rating_matrix_csc_test.shape)\n",
    "    rating_matrix_test_unqueried = rating_matrix_csc_test.tolil()\n",
    "    for i in range(len(test_list)):    \n",
    "        if i % 100 == 0:\n",
    "            print(\"%.2f%%\" % (100 * i / len(test_list)))  \n",
    "        rated_user = input_matrix[:, test_list[i]].nonzero()[0]\n",
    "        if test_list[i] in item_profile:\n",
    "            P_test[:, i] = np.dot(np.array(list(user_profile.values())), np.array(list(item_profile[test_list[i]])))\n",
    "            rating_matrix_test_unqueried[rated_user, i] = 0\n",
    "        else:\n",
    "            rating_matrix_test_unqueried[:, i] = 0\n",
    "    rating_matrix_test_unqueried = rating_matrix_test_unqueried.tocsc()\n",
    "    P_test = (rating_matrix_test_unqueried!=0).multiply(P_test)\n",
    "    dif = P_test - rating_matrix_test_unqueried\n",
    "    RMSE = ( dif.multiply(dif).sum() / (rating_matrix_test_unqueried!=0).sum() )**0.5\n",
    "    # RMSE =  (rmse_nominator / (rating_matrix_test_unqueried!=0).sum() )**0.5\n",
    "    print(\"Current RMSE: \" + str(RMSE))\n",
    "    rmse_list.append(RMSE)\n",
    "    if min_RMSE == -1 or RMSE < min_RMSE:\n",
    "        min_RMSE = RMSE\n",
    "        min_lambda = plambda\n",
    "\n",
    "print(\"min RMSE: \" + str(min(rmse_list)))\n",
    "\n",
    "plt.figure(1)\n",
    "plt.title('')\n",
    "plt.xlabel('plambda')\n",
    "plt.ylabel('RMSE')\n",
    "plt.plot(lambda_list, rmse_list)\n",
    "plt.show()"
   ]
  },
  {
   "cell_type": "code",
   "execution_count": 14,
   "metadata": {
    "scrolled": false
   },
   "outputs": [
    {
     "name": "stdout",
     "output_type": "stream",
     "text": [
      "SparkSession stopped.\n"
     ]
    }
   ],
   "source": [
    "MF.end()"
   ]
  },
  {
   "cell_type": "code",
   "execution_count": 17,
   "metadata": {
    "collapsed": true
   },
   "outputs": [],
   "source": [
    "import klepto\n",
    "Tree = klepto.archives.dir_archive('treeFile', cached=True, serialized=True)\n",
    "Tree['prediction_model'] = prediction_model\n",
    "Tree.dump()\n",
    "Tree.clear()"
   ]
  },
  {
   "cell_type": "code",
   "execution_count": 23,
   "metadata": {},
   "outputs": [
    {
     "data": {
      "image/png": "[encoded data removed]",
      "text/plain": [
       "<matplotlib.figure.Figure at 0x22420be5e10>"
      ]
     },
     "metadata": {},
     "output_type": "display_data"
    }
   ],
   "source": [
    "plt.figure(1)\n",
    "plt.xlabel('min RMSE')\n",
    "plt.ylabel('level')\n",
    "plt.plot([0.05, 0.075, 0.10, 0.11, 0.12, 0.13, 0.14, 0.15, 0.16, 0.17, 0.18, 0.19, 0.20, 0.21, 0.22], rmse_list)\n",
    "plt.show()"
   ]
  },
  {
   "cell_type": "code",
   "execution_count": 27,
   "metadata": {},
   "outputs": [
    {
     "name": "stdout",
     "output_type": "stream",
     "text": [
      "New SparkSession started...\n"
     ]
    }
   ],
   "source": [
    "MF = MatrixFactorization()"
   ]
  },
  {
   "cell_type": "code",
   "execution_count": 26,
   "metadata": {},
   "outputs": [
    {
     "name": "stdout",
     "output_type": "stream",
     "text": [
      "SparkSession stopped.\n"
     ]
    }
   ],
   "source": [
    "MF.end()"
   ]
  },
  {
   "cell_type": "code",
   "execution_count": 18,
   "metadata": {
    "scrolled": true
   },
   "outputs": [
    {
     "name": "stdout",
     "output_type": "stream",
     "text": [
      "Current plambda: 0.24\n",
      "MF DONE\n",
      "0.00%\n",
      "9.01%\n",
      "18.02%\n",
      "27.03%\n",
      "36.04%\n",
      "45.05%\n",
      "54.05%\n",
      "63.06%\n",
      "72.07%\n",
      "81.08%\n",
      "90.09%\n",
      "99.10%\n",
      "Current RMSE: 1.15037992266\n"
     ]
    }
   ],
   "source": [
    "plambda = 0.24\n",
    "print(\"Current plambda: \" + str(plambda))\n",
    "MF.change_parameter(plambda)\n",
    "user_profile, item_profile = MF.matrix_factorization(train_list)\n",
    "\n",
    "P_test = np.zeros(rating_matrix_csc_test.shape)\n",
    "rating_matrix_test_unqueried = rating_matrix_csc_test.tolil()\n",
    "for i in range(len(test_list)):    \n",
    "    if i % 100 == 0:\n",
    "        print(\"%.2f%%\" % (100 * i / len(test_list)))  \n",
    "    rated_user = input_matrix[:, test_list[i]].nonzero()[0]\n",
    "    if test_list[i] in item_profile:\n",
    "        P_test[:, i] = np.dot(np.array(list(user_profile.values())), np.array(list(item_profile[test_list[i]])))\n",
    "        rating_matrix_test_unqueried[rated_user, i] = 0\n",
    "    else:\n",
    "        rating_matrix_test_unqueried[:, i] = 0\n",
    "rating_matrix_test_unqueried = rating_matrix_test_unqueried.tocsc()\n",
    "P_test = (rating_matrix_test_unqueried!=0).multiply(P_test)\n",
    "dif = P_test - rating_matrix_test_unqueried\n",
    "RMSE = ( dif.multiply(dif).sum() / (rating_matrix_test_unqueried!=0).sum() )**0.5\n",
    "print(\"Current RMSE: \" + str(RMSE))"
   ]
  },
  {
   "cell_type": "code",
   "execution_count": 19,
   "metadata": {},
   "outputs": [
    {
     "data": {
      "text/plain": [
       "0.78563524105350724"
      ]
     },
     "execution_count": 19,
     "metadata": {},
     "output_type": "execute_result"
    }
   ],
   "source": [
    "nominator = (P_test>3).multiply(rating_matrix_test_unqueried>3).sum()\n",
    "denominator = (rating_matrix_test_unqueried>3).sum()\n",
    "nominator/denominator"
   ]
  }
 ],
 "metadata": {
  "kernelspec": {
   "display_name": "Python 3",
   "language": "python",
   "name": "python3"
  },
  "language_info": {
   "codemirror_mode": {
    "name": "ipython",
    "version": 3
   },
   "file_extension": ".py",
   "mimetype": "text/x-python",
   "name": "python",
   "nbconvert_exporter": "python",
   "pygments_lexer": "ipython3",
   "version": "3.5.4"
  }
 },
 "nbformat": 4,
 "nbformat_minor": 1
}
